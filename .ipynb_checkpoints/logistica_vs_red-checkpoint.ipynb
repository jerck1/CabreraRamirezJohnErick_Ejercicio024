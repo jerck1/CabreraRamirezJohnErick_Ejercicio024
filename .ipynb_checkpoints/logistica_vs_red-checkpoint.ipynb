{
 "cells": [
  {
   "cell_type": "code",
   "execution_count": 1,
   "metadata": {},
   "outputs": [],
   "source": [
    "import glob\n",
    "import pandas as pd\n",
    "import os\n",
    "import sklearn.datasets as skdata\n",
    "import numpy as np\n",
    "#import time\n",
    "import matplotlib.pyplot as plt\n",
    "from sklearn.datasets import fetch_openml\n",
    "from sklearn.linear_model import LogisticRegression\n",
    "from sklearn.model_selection import train_test_split\n",
    "from sklearn.preprocessing import StandardScaler\n",
    "from sklearn.utils import check_random_state\n",
    "from sklearn.metrics import confusion_matrix\n",
    "#%matplotlib inline"
   ]
  },
  {
   "cell_type": "code",
   "execution_count": 2,
   "metadata": {},
   "outputs": [],
   "source": [
    "import sklearn.datasets\n",
    "import sklearn.preprocessing\n",
    "import sklearn.neural_network\n",
    "import sklearn.model_selection"
   ]
  },
  {
   "cell_type": "code",
   "execution_count": 3,
   "metadata": {},
   "outputs": [],
   "source": [
    "from sklearn.metrics import f1_score"
   ]
  },
  {
   "cell_type": "code",
   "execution_count": 4,
   "metadata": {},
   "outputs": [
    {
     "name": "stdout",
     "output_type": "stream",
     "text": [
      "(7194,)\n",
      "['./Stocks/ardc.us.txt', './Stocks/epix.us.txt', './Stocks/eab.us.txt', './Stocks/batra.us.txt', './Stocks/inbk.us.txt', './Stocks/bgx.us.txt', './Stocks/strt.us.txt', './Stocks/manh.us.txt', './Stocks/atus.us.txt', './Stocks/icbk.us.txt', './Stocks/ftnt.us.txt', './Stocks/nhld.us.txt', './Stocks/dfs.us.txt', './Stocks/scvl.us.txt', './Stocks/ing.us.txt', './Stocks/hope.us.txt', './Stocks/jpt.us.txt', './Stocks/ocfc.us.txt', './Stocks/gsk.us.txt', './Stocks/apog.us.txt']\n"
     ]
    }
   ],
   "source": [
    "files=glob.glob(\"./Stocks/*.txt\")\n",
    "print(np.shape(files))\n",
    "print(files[:20])"
   ]
  },
  {
   "cell_type": "code",
   "execution_count": 5,
   "metadata": {},
   "outputs": [],
   "source": [
    "# Solamente uso las columnas  x=\"high\" y=\"nombre del archivo\". Ejm"
   ]
  },
  {
   "cell_type": "code",
   "execution_count": 6,
   "metadata": {},
   "outputs": [
    {
     "name": "stdout",
     "output_type": "stream",
     "text": [
      "Index(['Date', 'Open', 'High', 'Low', 'Close', 'Volume', 'OpenInt'], dtype='object')\n",
      "(1249, 7)\n"
     ]
    }
   ],
   "source": [
    "data = pd.read_csv(\"{}\".format(files[0]),delimiter=\",\")\n",
    "labels=data.keys()\n",
    "print(labels)\n",
    "print(np.shape(data))"
   ]
  },
  {
   "cell_type": "code",
   "execution_count": 7,
   "metadata": {},
   "outputs": [
    {
     "name": "stdout",
     "output_type": "stream",
     "text": [
      "Date\n"
     ]
    }
   ],
   "source": [
    "#las dimensiones son 1249 (cada compañía)\n",
    "print(labels[0])"
   ]
  },
  {
   "cell_type": "code",
   "execution_count": 8,
   "metadata": {},
   "outputs": [],
   "source": [
    "#tomo todos los elementos que no tengan celdas vacías"
   ]
  },
  {
   "cell_type": "code",
   "execution_count": null,
   "metadata": {},
   "outputs": [],
   "source": [
    "n_max=1200#number of files taken\n",
    "n_data=120# last days taken\n",
    "#n_max=len(files)\n",
    "X=[]\n",
    "Y=[]\n",
    "date=[]\n",
    "cnt=0\n",
    "for f in files[:n_max]:\n",
    "    if(os.stat(\"{}\".format(f)).st_size != 0):\n",
    "        data = pd.read_csv(\"{}\".format(f),delimiter=\",\")\n",
    "        label=data.keys()\n",
    "        if(len(data[label[0]])>119):\n",
    "            X=np.append(X,data[labels[2]][-n_data:])#toma todos los datos con high\n",
    "            if(cnt==0):\n",
    "                date=np.append(date,data[labels[0]][-n_data:])#toma todos los dates\n",
    "            cnt+=1\n",
    "X=(X.reshape(cnt,n_data)).transpose()\n",
    "#las categorías son los meses del año\n",
    "for i in range(len(date)):\n",
    "    for j in range(5,12):\n",
    "        if(\"-0{}-\".format(j) in date[i]):\n",
    "            Y=np.append(Y,j)\n",
    "        elif(\"-{}-\".format(j) in date[i]):\n",
    "            Y=np.append(Y,j)\n",
    "print(np.shape(X))\n",
    "print(np.shape(Y))"
   ]
  },
  {
   "cell_type": "code",
   "execution_count": null,
   "metadata": {},
   "outputs": [],
   "source": [
    "# las categorías que esperamos obtener son los meses del año en el orden en que aparece el array Y.\n",
    "# En este caso tenemos 7 meses:"
   ]
  },
  {
   "cell_type": "code",
   "execution_count": null,
   "metadata": {},
   "outputs": [],
   "source": [
    "print(len(date))\n",
    "print((Y))"
   ]
  },
  {
   "cell_type": "code",
   "execution_count": null,
   "metadata": {},
   "outputs": [],
   "source": [
    "# Vamos a hacer un split training test\n",
    "scaler = StandardScaler()\n",
    "x_train, x_test, y_train, y_test = train_test_split(X, Y, train_size=0.5)"
   ]
  },
  {
   "cell_type": "code",
   "execution_count": null,
   "metadata": {},
   "outputs": [],
   "source": [
    "x_train = scaler.fit_transform(x_train)\n",
    "x_test = scaler.transform(x_test)\n",
    "#y_train = scaler.fit_transform(y_train.reshape(-1, 1))\n",
    "#y_test = scaler.transform(y_test.reshape(-1, 1))\n",
    "print(np.shape(x_train))\n",
    "print(np.shape(x_test))\n",
    "print(np.shape(y_train))"
   ]
  },
  {
   "cell_type": "code",
   "execution_count": null,
   "metadata": {},
   "outputs": [],
   "source": [
    "#Number of neurons\n",
    "n=np.arange(1,8)\n",
    "#loss\n",
    "loss=[]\n",
    "#f1_score\n",
    "f1_s_train=[]\n",
    "f1_s_test=[]"
   ]
  },
  {
   "cell_type": "code",
   "execution_count": null,
   "metadata": {},
   "outputs": [],
   "source": [
    "# para una capa"
   ]
  },
  {
   "cell_type": "code",
   "execution_count": null,
   "metadata": {
    "scrolled": true
   },
   "outputs": [],
   "source": [
    "for i in n:\n",
    "    mlp = sklearn.neural_network.MLPClassifier(activation='logistic', \n",
    "                                           hidden_layer_sizes=(i), \n",
    "                                           max_iter=200)\n",
    "    mlp.fit(x_train, y_train)\n",
    "    loss=np.append(loss,mlp.loss_)\n",
    "    f1_s_train=np.append(f1_s_train,sklearn.metrics.f1_score(y_train, mlp.predict(x_train), average='macro'))\n",
    "    f1_s_test=np.append(f1_s_test,sklearn.metrics.f1_score(y_test, mlp.predict(x_test), average='macro'))\n",
    "    #print('Loss', mlp.loss_)#entropía relativa, divergencia"
   ]
  },
  {
   "cell_type": "code",
   "execution_count": null,
   "metadata": {
    "scrolled": false
   },
   "outputs": [],
   "source": [
    "plt.figure(1,figsize = (8,10))\n",
    "plt.subplot(1,2,1)\n",
    "plt.plot(n,loss)\n",
    "plt.xlabel('n neurons')\n",
    "plt.ylabel('loss')\n",
    "plt.subplot(1,2,2)\n",
    "plt.plot(n,f1_s_train,label=\"train\")\n",
    "plt.plot(n,f1_s_test,label=\"test\")\n",
    "plt.hlines(0.9833968253968254,min(n),max(n),label=\"logistic model\")\n",
    "plt.xlabel('n neurons')\n",
    "plt.ylabel('f_1 score')\n",
    "plt.savefig(\"f1_1capa.png\")"
   ]
  },
  {
   "cell_type": "code",
   "execution_count": null,
   "metadata": {},
   "outputs": [],
   "source": [
    "# dos capa"
   ]
  },
  {
   "cell_type": "code",
   "execution_count": null,
   "metadata": {},
   "outputs": [],
   "source": [
    "#Number of neurons\n",
    "n1=np.arange(1,5)\n",
    "n2=np.arange(2,8)\n",
    "#loss\n",
    "loss=[]\n",
    "#f1_score\n",
    "f1_s_train2=np.zeros((len(n1)+1,len(n2)+1))\n",
    "f1_s_test2=np.zeros((len(n1)+1,len(n2)+1))"
   ]
  },
  {
   "cell_type": "code",
   "execution_count": null,
   "metadata": {},
   "outputs": [],
   "source": [
    "#np.shape(f1_s_train)"
   ]
  },
  {
   "cell_type": "code",
   "execution_count": null,
   "metadata": {
    "scrolled": true
   },
   "outputs": [],
   "source": [
    "for i in n1:\n",
    "    for j in n2:\n",
    "        mlp = sklearn.neural_network.MLPClassifier(activation='logistic', \n",
    "                                               hidden_layer_sizes=(i,j), \n",
    "                                               max_iter=200)\n",
    "        mlp.fit(x_train, y_train)\n",
    "        loss=np.append(loss,mlp.loss_)\n",
    "        f1_s_train2[i-1,j-2]=sklearn.metrics.f1_score(y_train, mlp.predict(x_train), average='macro')\n",
    "        f1_s_test2[i-1,j-2]=sklearn.metrics.f1_score(y_test, mlp.predict(x_test), average='macro')\n",
    "        #print('Loss', mlp.loss_)#entropía relativa, divergencia"
   ]
  },
  {
   "cell_type": "code",
   "execution_count": null,
   "metadata": {},
   "outputs": [],
   "source": [
    "# Regresión logísitica utilizando l1"
   ]
  },
  {
   "cell_type": "code",
   "execution_count": null,
   "metadata": {
    "scrolled": true
   },
   "outputs": [],
   "source": [
    "# Turn up tolerance for faster convergence\n",
    "train_samples = int(np.shape(Y)[0]*0.5)\n",
    "f1_av_1=[]\n",
    "#regresión logística sobre los dígitos\n",
    "for i in np.log(np.arange(1.1,100,3)):\n",
    "    clf = LogisticRegression(\n",
    "        C=i, penalty='l1', solver='saga', tol=0.1)\n",
    "        #C=50. / train_samples, penalty='l1', solver='saga', tol=0.1)#,multi_class='multinomial'\n",
    "    clf.fit(x_train, y_train)\n",
    "    y_pred=clf.predict(x_test)\n",
    "    f1_av_1=np.append(f1_av_1,f1_score(y_test,y_pred, average='weighted'))"
   ]
  },
  {
   "cell_type": "code",
   "execution_count": null,
   "metadata": {},
   "outputs": [],
   "source": [
    "plt.figure()\n",
    "plt.scatter(np.log(np.arange(1.1,100,3)),f1_av_1,label=\"l1\")\n",
    "#plt.scatter(np.log(np.arange(1.1,100,3)),f1_av_2,label=\"l2\")\n",
    "plt.legend(loc=(1.05,0.25))\n",
    "print(f1_av_1[2])"
   ]
  },
  {
   "cell_type": "code",
   "execution_count": null,
   "metadata": {},
   "outputs": [],
   "source": [
    "for i in n1:\n",
    "#for i in range(3,5):\n",
    "    plt.figure(1,figsize = (8,8))\n",
    "    #plt.subplot(1,2,1)\n",
    "    #plt.plot(n,loss)\n",
    "    plt.xlabel('n neurons')\n",
    "    plt.ylabel('loss')\n",
    "    #plt.subplot(1,7,i)\n",
    "    plt.plot(n2,f1_s_train2[i,:6],label=\"train {} redes 1ra capa\".format(i))\n",
    "    plt.plot(n2,f1_s_test2[i,:6],label=\"test {} redes 1ra capa\".format(i))\n",
    "    plt.xlabel('n neurons')\n",
    "    plt.ylabel('f_1 score')\n",
    "plt.hlines(0.9833968253968254,min(n2),max(n2),label=\"logistic model\")\n",
    "plt.legend(loc=(1.05,0.25))\n",
    "plt.savefig(\"f1_2doscapas.png\")"
   ]
  },
  {
   "cell_type": "markdown",
   "metadata": {},
   "source": [
    "# Discusión"
   ]
  },
  {
   "cell_type": "markdown",
   "metadata": {},
   "source": [
    "* En mi caso los resultados no fueron tan buenos cuando se con las redes neuronales que al aplicar la regresión logística.\n",
    "* Los resultados muestran que la cuando hay 3 redes en la primera capa el f1 score tiende a aumentar, lo cual nos indica que debemos tomar 3 redes en la primera capa"
   ]
  },
  {
   "cell_type": "code",
   "execution_count": null,
   "metadata": {},
   "outputs": [],
   "source": []
  }
 ],
 "metadata": {
  "kernelspec": {
   "display_name": "Python 3",
   "language": "python",
   "name": "python3"
  },
  "language_info": {
   "codemirror_mode": {
    "name": "ipython",
    "version": 3
   },
   "file_extension": ".py",
   "mimetype": "text/x-python",
   "name": "python",
   "nbconvert_exporter": "python",
   "pygments_lexer": "ipython3",
   "version": "3.7.4"
  }
 },
 "nbformat": 4,
 "nbformat_minor": 2
}
